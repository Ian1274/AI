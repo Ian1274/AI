{
 "cells": [
  {
   "cell_type": "code",
   "execution_count": 1644,
   "metadata": {},
   "outputs": [],
   "source": [
    "import torch\n",
    "import torch.nn as nn\t\t\t#帮助我们创建和训练神经网络\n",
    "from torch.optim import SGD\t\t#导入实现随机梯度下降算法\n",
    "import torch.utils.data as Data\t#导入数据集\n",
    "from torchsummary import summary\n",
    "import numpy as np\n",
    "import pandas as pd\n",
    "import matplotlib.pyplot as plt\t\t#用于制图"
   ]
  },
  {
   "cell_type": "code",
   "execution_count": 1645,
   "metadata": {},
   "outputs": [],
   "source": [
    "df = pd.read_csv('new_data.csv')\n",
    "df = df.sample(frac=1)\n",
    "# 数据预处理归一化\n",
    "# df = df.apply(lambda x : (x - x.mean()) / x.std())\n",
    "all_features = df.drop(columns=\"Fiber Diameter\")\n",
    "n_train = int(len(df) * 0.8)"
   ]
  },
  {
   "cell_type": "code",
   "execution_count": 1646,
   "metadata": {},
   "outputs": [
    {
     "data": {
      "text/plain": [
       "(87, 5)"
      ]
     },
     "execution_count": 1646,
     "metadata": {},
     "output_type": "execute_result"
    }
   ],
   "source": [
    "df.shape"
   ]
  },
  {
   "cell_type": "code",
   "execution_count": 1647,
   "metadata": {},
   "outputs": [],
   "source": [
    "train_features = torch.from_numpy(all_features[:n_train].values.astype(np.float32))\n",
    "test_features = torch.from_numpy(all_features[n_train:].values.astype(np.float32))\n",
    "train_labels = torch.from_numpy(df[:n_train][\"Fiber Diameter\"].values.reshape(-1, 1).astype(np.float32))"
   ]
  },
  {
   "cell_type": "code",
   "execution_count": 1648,
   "metadata": {},
   "outputs": [],
   "source": [
    "# 定义网络模型\n",
    "class myMLP(nn.Module):\n",
    "    def __init__(self):\n",
    "        super(myMLP, self).__init__()\n",
    "        # 定义隐藏层\n",
    "        self.layer0 = nn.Sequential(\n",
    "            nn.Linear(4, 4),\n",
    "            nn.BatchNorm1d(4),\n",
    "            nn.ReLU()\n",
    "        )\n",
    "        # self.layer1 = nn.Sequential(\n",
    "        #     nn.Linear(4, 4),\n",
    "        #     nn.BatchNorm1d(4),\n",
    "        #     nn.ReLU()\n",
    "        # )\n",
    "        # self.layer2 = nn.Sequential(\n",
    "        #     nn.Linear(8, 8),\n",
    "        #     nn.BatchNorm1d(8),\n",
    "        #     nn.ReLU()\n",
    "        # )\n",
    "        # self.layer3 = nn.Sequential(\n",
    "        #     nn.Linear(8, 8),\n",
    "        #     nn.BatchNorm1d(8),\n",
    "        #     nn.ReLU()\n",
    "        # )\n",
    "        self.regression = nn.Linear(4, 1)\n",
    "\n",
    "    def forward(self, x):\n",
    "        x = self.layer0(x)\n",
    "        # x = self.layer1(x)\n",
    "        # x = self.layer2(x)\n",
    "        # x = self.layer3(x)\n",
    "        x = self.regression(x)\n",
    "        return x\n",
    "\n",
    "net = myMLP()"
   ]
  },
  {
   "cell_type": "code",
   "execution_count": 1649,
   "metadata": {},
   "outputs": [],
   "source": [
    "loss = nn.MSELoss()\n",
    "def log_rmse(net, features, labels, device):\n",
    "    # 为了在取对数时进一步稳定该值，将小于1的值设置为1\n",
    "    net = net.to(device)\n",
    "    features, labels = features.to(device), labels.to(device)\n",
    "    clipped_preds = torch.clamp(net(features), 1, float('inf'))\n",
    "    rmse = torch.sqrt(loss(torch.log(clipped_preds), torch.log(labels)))\n",
    "    return rmse.item()"
   ]
  },
  {
   "cell_type": "code",
   "execution_count": 1650,
   "metadata": {},
   "outputs": [],
   "source": [
    "def train(net, train_features, train_labels, test_features, test_labels, num_epochs, lr, weight_decay, batch_size, device):\n",
    "    train_ls, test_ls = [], []\n",
    "    train_data = Data.TensorDataset(train_features, train_labels)\n",
    "    train_loader = Data.DataLoader(\n",
    "        dataset=train_data,\n",
    "        batch_size=batch_size,\n",
    "        shuffle=True,\n",
    "        num_workers=0)\n",
    "    net = net.to(device)\n",
    "    optimizer = torch.optim.Adam(net.parameters(), lr = lr, weight_decay = weight_decay)\n",
    "    for epoch in range(num_epochs):\n",
    "        for X, y in train_loader:\n",
    "            X, y = X.to(device), y.to(device)\n",
    "            optimizer.zero_grad()\n",
    "            l = loss(net(X), y)\n",
    "            l.backward()\n",
    "            optimizer.step()\n",
    "        train_ls.append(log_rmse(net, train_features, train_labels, device))\n",
    "        if test_labels is not None:\n",
    "            test_ls.append(log_rmse(net, test_features, test_labels, device))\n",
    "    return train_ls, test_ls\n"
   ]
  },
  {
   "cell_type": "code",
   "execution_count": 1651,
   "metadata": {},
   "outputs": [],
   "source": [
    "# k折交叉验证\n",
    "def get_k_fold_data(k, i, X, y):\n",
    "    assert k > 1\n",
    "    fold_size = X.shape[0] // k\n",
    "    X_train, y_train = None, None\n",
    "    for j in range(k):\n",
    "        idx = slice(j * fold_size, (j + 1) * fold_size)\n",
    "        X_part, y_part = X[idx, :], y[idx]\n",
    "        if j == i:\n",
    "            X_valid, y_valid = X_part, y_part\n",
    "        elif X_train is None:\n",
    "            X_train, y_train = X_part, y_part\n",
    "        else:\n",
    "            X_train = torch.cat([X_train, X_part], 0)\n",
    "            y_train = torch.cat([y_train, y_part], 0)\n",
    "    return X_train, y_train, X_valid, y_valid"
   ]
  },
  {
   "cell_type": "code",
   "execution_count": 1652,
   "metadata": {},
   "outputs": [],
   "source": [
    "# k折交叉验证 训练\n",
    "def k_fold_train(k, X_train, y_train, num_epochs, lr, weight_decay, batch_size, device):\n",
    "    train_l_sum, valid_l_sum = 0, 0\n",
    "    for i in range(k):\n",
    "        data = get_k_fold_data(k, i, X_train, y_train)\n",
    "        net = myMLP()\n",
    "        train_ls, valid_ls = train(net, *data, num_epochs, lr,\n",
    "                                weight_decay, batch_size, device)\n",
    "        train_l_sum += train_ls[-1]\n",
    "        valid_l_sum += valid_ls[-1]\n",
    "        if i == 0:\n",
    "            plt.plot(list(range(1, num_epochs + 1)), train_ls, 'b')\n",
    "            plt.plot(list(range(1, num_epochs + 1)), valid_ls, 'r')\n",
    "            plt.xlabel('epochs')\n",
    "            plt.legend(['train ls', 'valid ls'])\n",
    "        print(f'折{i + 1}，训练log rmse {float(train_ls[-1]):f}, 验证log rmse {float(valid_ls[-1]):f}')\n",
    "    return train_l_sum / k , valid_l_sum / k"
   ]
  },
  {
   "cell_type": "code",
   "execution_count": 1653,
   "metadata": {},
   "outputs": [
    {
     "name": "stdout",
     "output_type": "stream",
     "text": [
      "折1，训练log rmse 0.197125, 验证log rmse 0.231808\n",
      "折2，训练log rmse 0.177033, 验证log rmse 0.202685\n",
      "折3，训练log rmse 0.160863, 验证log rmse 0.262373\n",
      "折4，训练log rmse 0.181783, 验证log rmse 0.231133\n",
      "折5，训练log rmse 0.186112, 验证log rmse 0.200671\n",
      "5-折验证: 平均训练log rmse: 0.180583, 平均验证log rmse: 0.225734\n"
     ]
    },
    {
     "data": {
      "image/png": "[encoded data removed]",
      "text/plain": [
       "<Figure size 640x480 with 1 Axes>"
      ]
     },
     "metadata": {},
     "output_type": "display_data"
    }
   ],
   "source": [
    "k, num_epochs, lr, weight_decay, batch_size = 5, 100, 3, 0.02, 64\n",
    "device = torch.device('cuda' if torch.cuda.is_available() else 'cpu')\n",
    "\n",
    "train_l, valid_l = k_fold_train(k, train_features, train_labels, num_epochs, lr, weight_decay, batch_size, device)\n",
    "\n",
    "print(f'{k}-折验证: 平均训练log rmse: {float(train_l):f}, '\n",
    "      f'平均验证log rmse: {float(valid_l):f}')"
   ]
  },
  {
   "cell_type": "code",
   "execution_count": 1654,
   "metadata": {},
   "outputs": [],
   "source": [
    "# def train_and_pred(train_features, test_features, num_epochs,)"
   ]
  },
  {
   "cell_type": "markdown",
   "metadata": {},
   "source": []
  },
  {
   "cell_type": "code",
   "execution_count": 1655,
   "metadata": {},
   "outputs": [
    {
     "data": {
      "text/plain": [
       "'\\n5, 30, 3, 0.01, 32  平均训练log rmse: 0.186586, 平均验证log rmse: 0.217087\\n5, 50, 3, 0.01, 32  平均训练log rmse: 0.190420, 平均验证log rmse: 0.256316\\n5, 100, 3, 0.01, 32 平均训练log rmse: 0.170849, 平均验证log rmse: 0.224346 \\n5, 100, 3, 0.01, 64 平均训练log rmse: 0.159398, 平均验证log rmse: 0.219554 \\n5, 100, 3, 0.01, 128平均训练log rmse: 0.155570, 平均验证log rmse: 0.230259\\n5, 100, 5, 0.01, 64 平均训练log rmse: 0.172077, 平均验证log rmse: 0.215775\\n5, 100, 3, 0.02, 64 平均训练log rmse: 0.172697, 平均验证log rmse: 0.200386\\n\\n'"
      ]
     },
     "execution_count": 1655,
     "metadata": {},
     "output_type": "execute_result"
    }
   ],
   "source": [
    "'''\n",
    "5, 30, 3, 0.01, 32  平均训练log rmse: 0.186586, 平均验证log rmse: 0.217087\n",
    "5, 50, 3, 0.01, 32  平均训练log rmse: 0.190420, 平均验证log rmse: 0.256316\n",
    "5, 100, 3, 0.01, 32 平均训练log rmse: 0.170849, 平均验证log rmse: 0.224346 \n",
    "5, 100, 3, 0.01, 64 平均训练log rmse: 0.159398, 平均验证log rmse: 0.219554 \n",
    "5, 100, 3, 0.01, 128平均训练log rmse: 0.155570, 平均验证log rmse: 0.230259\n",
    "5, 100, 5, 0.01, 64 平均训练log rmse: 0.172077, 平均验证log rmse: 0.215775\n",
    "5, 100, 3, 0.02, 64 平均训练log rmse: 0.172697, 平均验证log rmse: 0.200386\n",
    "\n",
    "'''"
   ]
  }
 ],
 "metadata": {
  "kernelspec": {
   "display_name": "pp",
   "language": "python",
   "name": "python3"
  },
  "language_info": {
   "codemirror_mode": {
    "name": "ipython",
    "version": 3
   },
   "file_extension": ".py",
   "mimetype": "text/x-python",
   "name": "python",
   "nbconvert_exporter": "python",
   "pygments_lexer": "ipython3",
   "version": "3.8.18"
  }
 },
 "nbformat": 4,
 "nbformat_minor": 2
}
