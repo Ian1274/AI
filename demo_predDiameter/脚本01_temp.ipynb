{
 "cells": [
  {
   "cell_type": "code",
   "execution_count": 50,
   "metadata": {},
   "outputs": [],
   "source": [
    "import numpy as np \n",
    "import matplotlib.pyplot as plt\n",
    "import pandas as pd\n",
    "import glob\n",
    "import tqdm\n",
    "import os\n",
    "import shutil\n",
    "import csv"
   ]
  },
  {
   "cell_type": "code",
   "execution_count": 3,
   "metadata": {},
   "outputs": [],
   "source": [
    "datas_list = glob.glob('../电镜数据/*.txt')"
   ]
  },
  {
   "cell_type": "code",
   "execution_count": 10,
   "metadata": {},
   "outputs": [],
   "source": [
    "test_data = datas_list[0]"
   ]
  },
  {
   "cell_type": "code",
   "execution_count": 70,
   "metadata": {},
   "outputs": [
    {
     "name": "stdout",
     "output_type": "stream",
     "text": [
      "['Total\\t100\\n', 'Max./nm\\t569.97\\n']\n",
      "308.00\n",
      "72.09\n",
      "198.26\n",
      "235.00\n",
      "205.51\n",
      "220.00\n",
      "245.14\n",
      "217.03\n",
      "144.20\n",
      "201.52\n",
      "340.07\n",
      "272.75\n",
      "335.27\n",
      "203.91\n",
      "166.18\n",
      "217.77\n",
      "241.81\n",
      "127.46\n",
      "154.00\n",
      "120.92\n",
      "161.20\n",
      "234.32\n",
      "297.25\n",
      "275.12\n",
      "170.03\n",
      "144.19\n",
      "318.88\n",
      "170.03\n",
      "148.64\n",
      "234.31\n",
      "144.19\n",
      "161.20\n",
      "267.95\n",
      "225.85\n",
      "148.64\n",
      "191.60\n",
      "245.14\n",
      "344.34\n",
      "205.51\n",
      "205.50\n",
      "180.23\n",
      "252.32\n",
      "266.11\n",
      "227.98\n",
      "162.21\n",
      "281.54\n",
      "191.60\n",
      "270.35\n",
      "181.13\n",
      "201.52\n",
      "288.93\n",
      "324.42\n",
      "115.41\n",
      "267.95\n",
      "383.20\n",
      "274.53\n",
      "279.81\n",
      "191.60\n",
      "198.26\n",
      "490.30\n",
      "183.80\n",
      "166.18\n",
      "290.63\n",
      "198.26\n",
      "115.41\n",
      "219.28\n",
      "378.95\n",
      "229.40\n",
      "216.27\n",
      "127.46\n",
      "569.97\n",
      "396.94\n",
      "199.08\n",
      "162.22\n",
      "140.78\n",
      "314.76\n",
      "315.30\n",
      "532.55\n",
      "166.18\n",
      "140.77\n",
      "217.03\n",
      "180.23\n",
      "155.05\n",
      "222.93\n",
      "305.88\n",
      "250.39\n",
      "234.31\n",
      "559.89\n",
      "284.99\n",
      "396.94\n",
      "422.31\n",
      "378.48\n",
      "380.22\n",
      "161.21\n",
      "234.32\n",
      "205.50\n",
      "378.52\n",
      "217.03\n",
      "210.19\n",
      "180.23\n"
     ]
    }
   ],
   "source": [
    "with open(datas_list[0], 'r') as f:\n",
    "    lines = f.readlines()\n",
    "    # print(lines[8:108])\n",
    "    # print(lines[3].split('\\t')[1])\n",
    "    for line in lines[8:108]:\n",
    "        # print(line)\n",
    "        print(line.split('\\t')[1])\n",
    "        # break"
   ]
  },
  {
   "cell_type": "code",
   "execution_count": 48,
   "metadata": {},
   "outputs": [],
   "source": []
  },
  {
   "cell_type": "code",
   "execution_count": 60,
   "metadata": {},
   "outputs": [],
   "source": [
    "# 创建一个csv文件用来存储样本数据\n",
    "\n",
    "name = test_data.split(os.sep)[-1].split('.txt')[0]\n",
    "wt, kv, mlh, cm = name[:2], name[3:5], name[6:9], name[10:12]\n",
    "new_name = '_'.join((wt, kv, mlh, cm))\n",
    "new_file_path = os.path.join('.', 'data', new_name + '.csv')\n",
    "\n",
    "# 文件名 命名 ： 浓度_电压_推速_接受距离\n",
    "features_names = ['Concentration', 'Voltage', 'Injection Rate', 'Receiving Distance', 'Fiber Diameter']\n",
    "test_features = [(wt, kv, mlh, cm, 308.00), \n",
    "                 (wt, kv, mlh, cm, 238.00)]\n",
    "\n",
    "\n"
   ]
  },
  {
   "cell_type": "code",
   "execution_count": 61,
   "metadata": {},
   "outputs": [],
   "source": [
    "# 判断文件是否存在，不存在则创建\n",
    "if not os.path.exists(new_file_path):\n",
    "    with open (new_file_path, 'w', encoding='utf-8', newline='') as f:\n",
    "        pass\n",
    "\n",
    "with open (new_file_path, 'w', encoding='utf-8', newline='') as f:\n",
    "    writer = csv.writer(f)\n",
    "    writer.writerow(features_names)\n",
    "    writer.writerows(test_features)\n"
   ]
  },
  {
   "cell_type": "code",
   "execution_count": 67,
   "metadata": {},
   "outputs": [
    {
     "name": "stdout",
     "output_type": "stream",
     "text": [
      "['Concentration,Voltage,Injection Rate,Receiving Distance,Fiber Diameter\\r\\n', '24,20,0.6,19,308.0\\r\\n', '24,20,0.6,19,238.0\\r\\n']\n"
     ]
    }
   ],
   "source": [
    "# 读取csv文件\n",
    "data = pd.read_csv(new_file_path)\n",
    "with open (new_file_path, 'r', encoding='utf-8', newline='') as f:\n",
    "    lines = f.readlines()\n",
    "    print(lines)\n",
    "        "
   ]
  },
  {
   "cell_type": "code",
   "execution_count": 63,
   "metadata": {},
   "outputs": [
    {
     "data": {
      "text/html": [
       "<div>\n",
       "<style scoped>\n",
       "    .dataframe tbody tr th:only-of-type {\n",
       "        vertical-align: middle;\n",
       "    }\n",
       "\n",
       "    .dataframe tbody tr th {\n",
       "        vertical-align: top;\n",
       "    }\n",
       "\n",
       "    .dataframe thead th {\n",
       "        text-align: right;\n",
       "    }\n",
       "</style>\n",
       "<table border=\"1\" class=\"dataframe\">\n",
       "  <thead>\n",
       "    <tr style=\"text-align: right;\">\n",
       "      <th></th>\n",
       "      <th>Concentration</th>\n",
       "      <th>Voltage</th>\n",
       "      <th>Injection Rate</th>\n",
       "      <th>Receiving Distance</th>\n",
       "      <th>Fiber Diameter</th>\n",
       "    </tr>\n",
       "  </thead>\n",
       "  <tbody>\n",
       "    <tr>\n",
       "      <th>0</th>\n",
       "      <td>24</td>\n",
       "      <td>20</td>\n",
       "      <td>0.6</td>\n",
       "      <td>19</td>\n",
       "      <td>308.0</td>\n",
       "    </tr>\n",
       "    <tr>\n",
       "      <th>1</th>\n",
       "      <td>24</td>\n",
       "      <td>20</td>\n",
       "      <td>0.6</td>\n",
       "      <td>19</td>\n",
       "      <td>238.0</td>\n",
       "    </tr>\n",
       "  </tbody>\n",
       "</table>\n",
       "</div>"
      ],
      "text/plain": [
       "   Concentration  Voltage  Injection Rate  Receiving Distance  Fiber Diameter\n",
       "0             24       20             0.6                  19           308.0\n",
       "1             24       20             0.6                  19           238.0"
      ]
     },
     "execution_count": 63,
     "metadata": {},
     "output_type": "execute_result"
    }
   ],
   "source": [
    "data"
   ]
  },
  {
   "cell_type": "code",
   "execution_count": null,
   "metadata": {},
   "outputs": [],
   "source": []
  }
 ],
 "metadata": {
  "kernelspec": {
   "display_name": "pp",
   "language": "python",
   "name": "python3"
  },
  "language_info": {
   "codemirror_mode": {
    "name": "ipython",
    "version": 3
   },
   "file_extension": ".py",
   "mimetype": "text/x-python",
   "name": "python",
   "nbconvert_exporter": "python",
   "pygments_lexer": "ipython3",
   "version": "3.8.18"
  }
 },
 "nbformat": 4,
 "nbformat_minor": 2
}
