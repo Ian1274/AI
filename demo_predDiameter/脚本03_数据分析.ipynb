{
 "cells": [
  {
   "cell_type": "markdown",
   "metadata": {},
   "source": [
    "# 对处理后的样本数据进行描述性统计"
   ]
  },
  {
   "cell_type": "code",
   "execution_count": 2,
   "metadata": {},
   "outputs": [],
   "source": [
    "import pandas as pd\n",
    "import numpy as np\n",
    "import matplotlib.pyplot as plt\n",
    "import glob\n",
    "import tqdm"
   ]
  },
  {
   "cell_type": "code",
   "execution_count": 4,
   "metadata": {},
   "outputs": [],
   "source": [
    "data_paths = glob.glob('./data/*.csv')\n",
    "test_data = data_paths[0]"
   ]
  },
  {
   "cell_type": "code",
   "execution_count": 5,
   "metadata": {},
   "outputs": [],
   "source": [
    "data = pd.read_csv(test_data)"
   ]
  },
  {
   "cell_type": "code",
   "execution_count": 6,
   "metadata": {},
   "outputs": [
    {
     "data": {
      "text/html": [
       "<div>\n",
       "<style scoped>\n",
       "    .dataframe tbody tr th:only-of-type {\n",
       "        vertical-align: middle;\n",
       "    }\n",
       "\n",
       "    .dataframe tbody tr th {\n",
       "        vertical-align: top;\n",
       "    }\n",
       "\n",
       "    .dataframe thead th {\n",
       "        text-align: right;\n",
       "    }\n",
       "</style>\n",
       "<table border=\"1\" class=\"dataframe\">\n",
       "  <thead>\n",
       "    <tr style=\"text-align: right;\">\n",
       "      <th></th>\n",
       "      <th>Concentration</th>\n",
       "      <th>Voltage</th>\n",
       "      <th>Injection Rate</th>\n",
       "      <th>Receiving Distance</th>\n",
       "      <th>Fiber Diameter</th>\n",
       "    </tr>\n",
       "  </thead>\n",
       "  <tbody>\n",
       "    <tr>\n",
       "      <th>0</th>\n",
       "      <td>24</td>\n",
       "      <td>20</td>\n",
       "      <td>0.6</td>\n",
       "      <td>19</td>\n",
       "      <td>308.00</td>\n",
       "    </tr>\n",
       "    <tr>\n",
       "      <th>1</th>\n",
       "      <td>24</td>\n",
       "      <td>20</td>\n",
       "      <td>0.6</td>\n",
       "      <td>19</td>\n",
       "      <td>72.09</td>\n",
       "    </tr>\n",
       "    <tr>\n",
       "      <th>2</th>\n",
       "      <td>24</td>\n",
       "      <td>20</td>\n",
       "      <td>0.6</td>\n",
       "      <td>19</td>\n",
       "      <td>198.26</td>\n",
       "    </tr>\n",
       "    <tr>\n",
       "      <th>3</th>\n",
       "      <td>24</td>\n",
       "      <td>20</td>\n",
       "      <td>0.6</td>\n",
       "      <td>19</td>\n",
       "      <td>235.00</td>\n",
       "    </tr>\n",
       "    <tr>\n",
       "      <th>4</th>\n",
       "      <td>24</td>\n",
       "      <td>20</td>\n",
       "      <td>0.6</td>\n",
       "      <td>19</td>\n",
       "      <td>205.51</td>\n",
       "    </tr>\n",
       "    <tr>\n",
       "      <th>...</th>\n",
       "      <td>...</td>\n",
       "      <td>...</td>\n",
       "      <td>...</td>\n",
       "      <td>...</td>\n",
       "      <td>...</td>\n",
       "    </tr>\n",
       "    <tr>\n",
       "      <th>95</th>\n",
       "      <td>24</td>\n",
       "      <td>20</td>\n",
       "      <td>0.6</td>\n",
       "      <td>19</td>\n",
       "      <td>205.50</td>\n",
       "    </tr>\n",
       "    <tr>\n",
       "      <th>96</th>\n",
       "      <td>24</td>\n",
       "      <td>20</td>\n",
       "      <td>0.6</td>\n",
       "      <td>19</td>\n",
       "      <td>378.52</td>\n",
       "    </tr>\n",
       "    <tr>\n",
       "      <th>97</th>\n",
       "      <td>24</td>\n",
       "      <td>20</td>\n",
       "      <td>0.6</td>\n",
       "      <td>19</td>\n",
       "      <td>217.03</td>\n",
       "    </tr>\n",
       "    <tr>\n",
       "      <th>98</th>\n",
       "      <td>24</td>\n",
       "      <td>20</td>\n",
       "      <td>0.6</td>\n",
       "      <td>19</td>\n",
       "      <td>210.19</td>\n",
       "    </tr>\n",
       "    <tr>\n",
       "      <th>99</th>\n",
       "      <td>24</td>\n",
       "      <td>20</td>\n",
       "      <td>0.6</td>\n",
       "      <td>19</td>\n",
       "      <td>180.23</td>\n",
       "    </tr>\n",
       "  </tbody>\n",
       "</table>\n",
       "<p>100 rows × 5 columns</p>\n",
       "</div>"
      ],
      "text/plain": [
       "    Concentration  Voltage  Injection Rate  Receiving Distance  Fiber Diameter\n",
       "0              24       20             0.6                  19          308.00\n",
       "1              24       20             0.6                  19           72.09\n",
       "2              24       20             0.6                  19          198.26\n",
       "3              24       20             0.6                  19          235.00\n",
       "4              24       20             0.6                  19          205.51\n",
       "..            ...      ...             ...                 ...             ...\n",
       "95             24       20             0.6                  19          205.50\n",
       "96             24       20             0.6                  19          378.52\n",
       "97             24       20             0.6                  19          217.03\n",
       "98             24       20             0.6                  19          210.19\n",
       "99             24       20             0.6                  19          180.23\n",
       "\n",
       "[100 rows x 5 columns]"
      ]
     },
     "execution_count": 6,
     "metadata": {},
     "output_type": "execute_result"
    }
   ],
   "source": [
    "data"
   ]
  },
  {
   "cell_type": "code",
   "execution_count": 9,
   "metadata": {},
   "outputs": [],
   "source": [
    "diameters = data['Fiber Diameter'].values"
   ]
  },
  {
   "cell_type": "code",
   "execution_count": 28,
   "metadata": {},
   "outputs": [
    {
     "name": "stdout",
     "output_type": "stream",
     "text": [
      "min: 72.09\n",
      " max: 569.97\n",
      " mean: 241.90019999999996\n",
      " std: 95.03815109712521\n"
     ]
    },
    {
     "data": {
      "image/png": "[encoded data removed]",
      "text/plain": [
       "<Figure size 800x400 with 2 Axes>"
      ]
     },
     "metadata": {},
     "output_type": "display_data"
    }
   ],
   "source": [
    "# 描述性统计函数 + 画图\n",
    "def descriptive_statistics(data):\n",
    "    min = data.min()\n",
    "    max = data.max()\n",
    "    mean = data.mean()\n",
    "    std = data.std()\n",
    "    print(f'min: {min}\\n max: {max}\\n mean: {mean}\\n std: {std}')\n",
    "    # 绘制直方图以及正态分布曲线\n",
    "    x = np.arange(min - 10, max + 10, 0.1)\n",
    "    y = np.multiply(np.power(np.sqrt(2 * np.pi) * std, -1), np.exp(-np.power(x - mean, 2) / (2 * std ** 2)))\n",
    "    plt.figure(figsize=(8, 4))\n",
    "    plt.subplot(121)\n",
    "    plt.hist(data)\n",
    "    plt.subplot(122)\n",
    "    plt.plot(x, y, 'red')\n",
    "    \n",
    "# 描述性统计\n",
    "descriptive_statistics(diameters)"
   ]
  },
  {
   "cell_type": "code",
   "execution_count": null,
   "metadata": {},
   "outputs": [],
   "source": []
  }
 ],
 "metadata": {
  "kernelspec": {
   "display_name": "pp",
   "language": "python",
   "name": "python3"
  },
  "language_info": {
   "codemirror_mode": {
    "name": "ipython",
    "version": 3
   },
   "file_extension": ".py",
   "mimetype": "text/x-python",
   "name": "python",
   "nbconvert_exporter": "python",
   "pygments_lexer": "ipython3",
   "version": "3.8.18"
  }
 },
 "nbformat": 4,
 "nbformat_minor": 2
}
