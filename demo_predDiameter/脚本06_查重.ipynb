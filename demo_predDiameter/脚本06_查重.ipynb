{
 "cells": [
  {
   "cell_type": "code",
   "execution_count": 6,
   "metadata": {},
   "outputs": [],
   "source": [
    "import glob\n",
    "import os\n",
    "import tqdm\n",
    "import numpy as np"
   ]
  },
  {
   "cell_type": "code",
   "execution_count": 7,
   "metadata": {},
   "outputs": [],
   "source": [
    "original_data_paths = glob.glob('./data/*.csv')\n",
    "new_data_paths = glob.glob('../电镜数据04_9/*.txt')"
   ]
  },
  {
   "cell_type": "code",
   "execution_count": 8,
   "metadata": {},
   "outputs": [
    {
     "data": {
      "text/plain": [
       "(79, 0)"
      ]
     },
     "execution_count": 8,
     "metadata": {},
     "output_type": "execute_result"
    }
   ],
   "source": [
    "len(original_data_paths), len(new_data_paths)"
   ]
  },
  {
   "cell_type": "code",
   "execution_count": 9,
   "metadata": {},
   "outputs": [],
   "source": [
    "def check(list1, list2):\n",
    "    check_list = []\n",
    "    for paht1 in tqdm.tqdm(list1, desc='被查对象'):\n",
    "        file_name1 = paht1.split(os.sep)[-1].split('.txt')[0]\n",
    "        wt1, kv1, mlh1, cm1 = file_name1[:2], file_name1[4:6], file_name1[7:10], file_name1[-2:]\n",
    "        for index, path2 in tqdm.tqdm(enumerate(list2), desc='正在查ing'):\n",
    "            file_name2 = path2.split(os.sep)[-1].split('.csv')[0]\n",
    "            wt2, kv2, mlh2, cm2 = file_name2[:2], file_name2[3:5], file_name2[6:9], file_name2[-2:]\n",
    "            if np.array_equal([wt1, kv1, mlh1, cm1], [wt2, kv2, mlh2, cm2]):\n",
    "                print(f'{file_name1} 重复了！')\n",
    "                check_list.append(file_name1)\n",
    "                break\n",
    "            # if index == len(list2):\n",
    "            #     print(f'{file_name1} 重复了！')\n",
    "            #     \n",
    "        #     print([wt1, kv1, mlh1, cm1])\n",
    "        #     print([wt2, kv2, mlh2, cm2])\n",
    "        #     print(np.array_equal([wt1, kv1, mlh1, cm1], [wt2, kv2, mlh2, cm2]))\n",
    "\n",
    "        #     break\n",
    "        # break\n",
    "    return check_list\n"
   ]
  },
  {
   "cell_type": "code",
   "execution_count": 10,
   "metadata": {},
   "outputs": [
    {
     "name": "stderr",
     "output_type": "stream",
     "text": [
      "被查对象: 0it [00:00, ?it/s]\n"
     ]
    },
    {
     "data": {
      "text/plain": [
       "(0, [])"
      ]
     },
     "execution_count": 10,
     "metadata": {},
     "output_type": "execute_result"
    }
   ],
   "source": [
    "check_list = check(new_data_paths, original_data_paths)\n",
    "len(check_list), check_list"
   ]
  },
  {
   "cell_type": "code",
   "execution_count": null,
   "metadata": {},
   "outputs": [],
   "source": []
  }
 ],
 "metadata": {
  "kernelspec": {
   "display_name": "pp",
   "language": "python",
   "name": "python3"
  },
  "language_info": {
   "codemirror_mode": {
    "name": "ipython",
    "version": 3
   },
   "file_extension": ".py",
   "mimetype": "text/x-python",
   "name": "python",
   "nbconvert_exporter": "python",
   "pygments_lexer": "ipython3",
   "version": "3.8.18"
  }
 },
 "nbformat": 4,
 "nbformat_minor": 2
}
