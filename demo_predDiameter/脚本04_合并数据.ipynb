{
 "cells": [
  {
   "cell_type": "code",
   "execution_count": 1,
   "metadata": {},
   "outputs": [],
   "source": [
    "import pandas as pd\n",
    "import numpy as np\n",
    "import glob\n",
    "import os\n",
    "import csv\n",
    "import tqdm"
   ]
  },
  {
   "cell_type": "code",
   "execution_count": 2,
   "metadata": {},
   "outputs": [],
   "source": [
    "data_files = glob.glob('./data/*.csv')"
   ]
  },
  {
   "cell_type": "code",
   "execution_count": 3,
   "metadata": {},
   "outputs": [],
   "source": [
    "features_names = ['Concentration', 'Voltage', 'Injection Rate', 'Receiving Distance', 'Fiber Diameter']\n",
    "features_name_line = ','.join(features_names) + '\\n'"
   ]
  },
  {
   "cell_type": "code",
   "execution_count": 4,
   "metadata": {},
   "outputs": [
    {
     "data": {
      "text/plain": [
       "'Concentration,Voltage,Injection Rate,Receiving Distance,Fiber Diameter\\n'"
      ]
     },
     "execution_count": 4,
     "metadata": {},
     "output_type": "execute_result"
    }
   ],
   "source": [
    "features_name_line"
   ]
  },
  {
   "cell_type": "code",
   "execution_count": 5,
   "metadata": {},
   "outputs": [
    {
     "name": "stderr",
     "output_type": "stream",
     "text": [
      "100%|██████████| 87/87 [00:00<00:00, 1766.30it/s]\n"
     ]
    }
   ],
   "source": [
    "if not os.path.exists('data.csv'):\n",
    "    with open('data.csv', 'w', encoding='utf-8', newline='') as f:\n",
    "        pass\n",
    "        \n",
    "data_temp = []\n",
    "for data_file in tqdm.tqdm(data_files):\n",
    "    with open (data_file, 'r', ) as f:\n",
    "        lines = f.readlines()\n",
    "        data_temp.append(lines[1:])\n",
    "\n",
    "with open('data.csv', 'w', encoding='utf-8', newline='') as f:\n",
    "    f.write(features_name_line)\n",
    "    for data in data_temp:\n",
    "        f.writelines(data)"
   ]
  },
  {
   "cell_type": "code",
   "execution_count": 6,
   "metadata": {},
   "outputs": [],
   "source": [
    "data = pd.read_csv('data.csv')"
   ]
  },
  {
   "cell_type": "code",
   "execution_count": 7,
   "metadata": {},
   "outputs": [
    {
     "data": {
      "text/html": [
       "<div>\n",
       "<style scoped>\n",
       "    .dataframe tbody tr th:only-of-type {\n",
       "        vertical-align: middle;\n",
       "    }\n",
       "\n",
       "    .dataframe tbody tr th {\n",
       "        vertical-align: top;\n",
       "    }\n",
       "\n",
       "    .dataframe thead th {\n",
       "        text-align: right;\n",
       "    }\n",
       "</style>\n",
       "<table border=\"1\" class=\"dataframe\">\n",
       "  <thead>\n",
       "    <tr style=\"text-align: right;\">\n",
       "      <th></th>\n",
       "      <th>Concentration</th>\n",
       "      <th>Voltage</th>\n",
       "      <th>Injection Rate</th>\n",
       "      <th>Receiving Distance</th>\n",
       "      <th>Fiber Diameter</th>\n",
       "    </tr>\n",
       "  </thead>\n",
       "  <tbody>\n",
       "    <tr>\n",
       "      <th>count</th>\n",
       "      <td>8698.000000</td>\n",
       "      <td>8698.000000</td>\n",
       "      <td>8698.000000</td>\n",
       "      <td>8698.000000</td>\n",
       "      <td>8698.000000</td>\n",
       "    </tr>\n",
       "    <tr>\n",
       "      <th>mean</th>\n",
       "      <td>23.724994</td>\n",
       "      <td>21.895378</td>\n",
       "      <td>0.508542</td>\n",
       "      <td>18.582663</td>\n",
       "      <td>286.481698</td>\n",
       "    </tr>\n",
       "    <tr>\n",
       "      <th>std</th>\n",
       "      <td>1.120240</td>\n",
       "      <td>1.063187</td>\n",
       "      <td>0.131747</td>\n",
       "      <td>1.238913</td>\n",
       "      <td>111.965918</td>\n",
       "    </tr>\n",
       "    <tr>\n",
       "      <th>min</th>\n",
       "      <td>22.000000</td>\n",
       "      <td>20.000000</td>\n",
       "      <td>0.300000</td>\n",
       "      <td>17.000000</td>\n",
       "      <td>7.790000</td>\n",
       "    </tr>\n",
       "    <tr>\n",
       "      <th>25%</th>\n",
       "      <td>23.000000</td>\n",
       "      <td>21.000000</td>\n",
       "      <td>0.400000</td>\n",
       "      <td>17.000000</td>\n",
       "      <td>213.822500</td>\n",
       "    </tr>\n",
       "    <tr>\n",
       "      <th>50%</th>\n",
       "      <td>24.000000</td>\n",
       "      <td>22.000000</td>\n",
       "      <td>0.500000</td>\n",
       "      <td>19.000000</td>\n",
       "      <td>267.315000</td>\n",
       "    </tr>\n",
       "    <tr>\n",
       "      <th>75%</th>\n",
       "      <td>25.000000</td>\n",
       "      <td>23.000000</td>\n",
       "      <td>0.600000</td>\n",
       "      <td>19.000000</td>\n",
       "      <td>336.507500</td>\n",
       "    </tr>\n",
       "    <tr>\n",
       "      <th>max</th>\n",
       "      <td>25.000000</td>\n",
       "      <td>24.000000</td>\n",
       "      <td>0.700000</td>\n",
       "      <td>21.000000</td>\n",
       "      <td>1545.190000</td>\n",
       "    </tr>\n",
       "  </tbody>\n",
       "</table>\n",
       "</div>"
      ],
      "text/plain": [
       "       Concentration      Voltage  Injection Rate  Receiving Distance  \\\n",
       "count    8698.000000  8698.000000     8698.000000         8698.000000   \n",
       "mean       23.724994    21.895378        0.508542           18.582663   \n",
       "std         1.120240     1.063187        0.131747            1.238913   \n",
       "min        22.000000    20.000000        0.300000           17.000000   \n",
       "25%        23.000000    21.000000        0.400000           17.000000   \n",
       "50%        24.000000    22.000000        0.500000           19.000000   \n",
       "75%        25.000000    23.000000        0.600000           19.000000   \n",
       "max        25.000000    24.000000        0.700000           21.000000   \n",
       "\n",
       "       Fiber Diameter  \n",
       "count     8698.000000  \n",
       "mean       286.481698  \n",
       "std        111.965918  \n",
       "min          7.790000  \n",
       "25%        213.822500  \n",
       "50%        267.315000  \n",
       "75%        336.507500  \n",
       "max       1545.190000  "
      ]
     },
     "execution_count": 7,
     "metadata": {},
     "output_type": "execute_result"
    }
   ],
   "source": [
    "data.describe()"
   ]
  },
  {
   "cell_type": "code",
   "execution_count": null,
   "metadata": {},
   "outputs": [],
   "source": []
  }
 ],
 "metadata": {
  "kernelspec": {
   "display_name": "pp",
   "language": "python",
   "name": "python3"
  },
  "language_info": {
   "codemirror_mode": {
    "name": "ipython",
    "version": 3
   },
   "file_extension": ".py",
   "mimetype": "text/x-python",
   "name": "python",
   "nbconvert_exporter": "python",
   "pygments_lexer": "ipython3",
   "version": "3.8.18"
  }
 },
 "nbformat": 4,
 "nbformat_minor": 2
}
